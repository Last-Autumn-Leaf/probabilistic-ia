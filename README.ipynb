{
 "cells": [
  {
   "cell_type": "markdown",
   "metadata": {
    "collapsed": true,
    "pycharm": {
     "is_executing": true
    }
   },
   "source": [
    "# Projet IA Probabiliste"
   ]
  },
  {
   "cell_type": "markdown",
   "metadata": {},
   "source": [
    "## Description du Projet\n",
    "Ceci est le dépôt du projet d'APP 2 - IA Probabiliste.\n",
    "\n",
    "Le but du projet est d'implémenter trois méthodes de classifications d'images sans utiliser la position des pixels en entrées. Les trois classes sont les côtes, les rues et les fôrets. \n",
    "\n",
    "Les trois classificateurs implémentés sont :\n",
    " - **Bayes**\n",
    " - **KNN**\n",
    " - **Réseau de neurones** \n",
    " \n",
    "Dans le futur nous espérons pouvoir implémenter d'autres classificateur ainsi que d'autres prétraitement permettant de meilleurs résultats."
   ]
  },
  {
   "cell_type": "markdown",
   "metadata": {},
   "source": [
    "## Installer le projet\n",
    "Fonctionne avec la version 3.10.6 de Python.\n",
    "\n",
    "Pour installer les librairies du projet lancer la commande suivante:"
   ]
  },
  {
   "cell_type": "code",
   "execution_count": null,
   "metadata": {},
   "outputs": [],
   "source": [
    "pip install -r requirements.txt"
   ]
  },
  {
   "cell_type": "markdown",
   "metadata": {},
   "source": [
    "## Lancer le projet\n",
    "Pour lancer une classification il suffit de lancer le main.py avec un des arguments suivant :\n",
    "- RNN\n",
    "- BAYES\n",
    "- KNN\n",
    "\n",
    "### Exemple:"
   ]
  },
  {
   "cell_type": "code",
   "execution_count": 4,
   "metadata": {},
   "outputs": [
    {
     "name": "stdout",
     "output_type": "stream",
     "text": [
      "/Users/carlos/Documents/LeTaffe/IA/APP2/app2code/venv/bin/python: can't open file '/Users/carlos/Documents/LeTaffe/IA/APP2/app2code/livrables/main.py': [Errno 2] No such file or directory\r\n"
     ]
    }
   ],
   "source": [
    "!python main.py bayes"
   ]
  },
  {
   "cell_type": "code",
   "execution_count": null,
   "metadata": {},
   "outputs": [],
   "source": []
  }
 ],
 "metadata": {
  "kernelspec": {
   "display_name": "Python 3 (ipykernel)",
   "language": "python",
   "name": "python3"
  },
  "language_info": {
   "codemirror_mode": {
    "name": "ipython",
    "version": 3
   },
   "file_extension": ".py",
   "mimetype": "text/x-python",
   "name": "python",
   "nbconvert_exporter": "python",
   "pygments_lexer": "ipython3",
   "version": "3.10.6"
  }
 },
 "nbformat": 4,
 "nbformat_minor": 1
}
